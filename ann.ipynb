{
  "nbformat": 4,
  "nbformat_minor": 0,
  "metadata": {
    "colab": {
      "provenance": [],
      "gpuType": "V28"
    },
    "kernelspec": {
      "name": "python3",
      "display_name": "Python 3"
    },
    "language_info": {
      "name": "python"
    },
    "accelerator": "TPU"
  },
  "cells": [
    {
      "cell_type": "markdown",
      "source": [
        "# Logic Gate Classifier #\n",
        "\n",
        "Classifiying 5 basic and 2 derived logic gates using Neural Networks (excluding NOT).\n",
        "\n",
        "Following are the logic gates currently being tested :\n",
        "*   AND\n",
        "*   OR\n",
        "*   NAND\n",
        "*   NOR\n",
        "*   XOR\n",
        "*   XNOR\n",
        "*   NOT"
      ],
      "metadata": {
        "id": "bCk-RgM8mMMY"
      }
    },
    {
      "cell_type": "code",
      "execution_count": 41,
      "metadata": {
        "id": "jIzegVVGlIyE"
      },
      "outputs": [],
      "source": [
        "import numpy as np"
      ]
    },
    {
      "cell_type": "code",
      "source": [
        "def sigmoid(x):\n",
        "    return 1/(1+np.exp(-x))"
      ],
      "metadata": {
        "id": "T8IKfRc8Dm-s"
      },
      "execution_count": 42,
      "outputs": []
    },
    {
      "cell_type": "code",
      "source": [
        "def initialparam(inputfeatures, hiddenneuron, outputfeatures):\n",
        "  w1 = np.random.randn(hiddenneuron, inputfeatures)\n",
        "  w2 = np.random.randn(outputfeatures, hiddenneuron)\n",
        "  b1 = np.zeros((hiddenneuron, 1))\n",
        "  b2 = np.zeros((outputfeatures, 1))\n",
        "\n",
        "  parameters = {\"w1\":w1, \"b1\":b1, \"w2\":w2, \"b2\":b2}\n",
        "  return parameters"
      ],
      "metadata": {
        "id": "WzLZFdzdoz-_"
      },
      "execution_count": 43,
      "outputs": []
    },
    {
      "cell_type": "code",
      "source": [
        "def forwardprop(x, y, parameters):\n",
        "  w1 = parameters[\"w1\"]\n",
        "  w2 = parameters[\"w2\"]\n",
        "  b1 = parameters[\"b1\"]\n",
        "  b2 = parameters[\"b2\"]\n",
        "\n",
        "  z1 = np.dot(w1, x) + b1\n",
        "  a1 = sigmoid(z1)\n",
        "  z2 = np.dot(w2, a1) + b2\n",
        "  a2 = sigmoid(z2)\n",
        "\n",
        "  cache = (z1, a1, w1, b1, z2, a2, w2, b2)\n",
        "  logloss = np.multiply(np.log(a2), y) + np.multiply(np.log(1 - a2), (1 - y))\n",
        "  cost = -np.sum(logloss)/x.shape[1]\n",
        "  return cost, cache, a2"
      ],
      "metadata": {
        "id": "FM8q1OJO0sEO"
      },
      "execution_count": 44,
      "outputs": []
    },
    {
      "cell_type": "code",
      "source": [
        "def backwardprop(x, y, cache):\n",
        "  (z1, a1, w1, b1, z2, a2, w2, b2) = cache\n",
        "\n",
        "  d2 = a2 - y\n",
        "  dw2 = np.dot(d2, a1.T)/x.shape[1]\n",
        "  db2 = np.sum(d2, axis = 1, keepdims = True)\n",
        "  da1 = np.dot(w2.T, d2)\n",
        "\n",
        "  d1 = np.multiply(da1, a1 * (1 - a1))\n",
        "  dw1 = np.dot(d1, x.T)/x.shape[1]\n",
        "  db1 = np.sum(d1, axis = 1, keepdims = True)\n",
        "\n",
        "  gradients = {\"d2\" : d2, \"dw2\" : dw2, \"db2\" : db2, \"d1\" : d1, \"dw1\" : dw1, \"db1\" : db1}\n",
        "  return gradients"
      ],
      "metadata": {
        "id": "h-dAFkwDpFJE"
      },
      "execution_count": 45,
      "outputs": []
    },
    {
      "cell_type": "code",
      "source": [
        "def updateparam(parameters, gradients, learningRate):\n",
        "    parameters[\"w1\"] = parameters[\"w1\"] - learningRate * gradients[\"dw1\"]\n",
        "    parameters[\"w2\"] = parameters[\"w2\"] - learningRate * gradients[\"dw2\"]\n",
        "    parameters[\"b1\"] = parameters[\"b1\"] - learningRate * gradients[\"db1\"]\n",
        "    parameters[\"b2\"] = parameters[\"b2\"] - learningRate * gradients[\"db2\"]\n",
        "    return parameters"
      ],
      "metadata": {
        "id": "EyC15CX_ZzPh"
      },
      "execution_count": 46,
      "outputs": []
    },
    {
      "cell_type": "code",
      "source": [
        "# outputs = {\n",
        "#         \"AND\": np.array([[0, 0, 0, 1]]),\n",
        "#         \"OR\": np.array([[0, 1, 1, 1]]),\n",
        "#         \"NAND\": np.array([[1, 1, 1, 0]]),\n",
        "#         \"NOR\": np.array([[1, 0, 0, 0]]),\n",
        "#         \"NOT\": np.array([[1, 0]]),\n",
        "#     }"
      ],
      "metadata": {
        "id": "B9kCZVL_uRA5"
      },
      "execution_count": 47,
      "outputs": []
    },
    {
      "cell_type": "code",
      "source": [
        "hiddenneuron=2\n",
        "epoch=100000\n",
        "learningRate=0.01"
      ],
      "metadata": {
        "id": "8vX68PX0uCRS"
      },
      "execution_count": 61,
      "outputs": []
    },
    {
      "cell_type": "code",
      "source": [
        "gate = input()"
      ],
      "metadata": {
        "colab": {
          "base_uri": "https://localhost:8080/"
        },
        "id": "KFXoViU0utHC",
        "outputId": "c8875d2c-2a74-469e-8aa3-c3b59a25d96e"
      },
      "execution_count": 62,
      "outputs": [
        {
          "name": "stdout",
          "output_type": "stream",
          "text": [
            "AND\n"
          ]
        }
      ]
    },
    {
      "cell_type": "code",
      "source": [
        "if gate in [\"AND\", \"OR\", \"NAND\", \"NOR\"]:\n",
        "  x = np.array([[0, 0, 1, 1], [0, 1, 0, 1]])\n",
        "elif gate == \"NOT\":\n",
        "  x = np.array([[0, 1]])"
      ],
      "metadata": {
        "id": "xgr1QGSkuqrw"
      },
      "execution_count": 63,
      "outputs": []
    },
    {
      "cell_type": "code",
      "source": [
        "y = outputs[gate]"
      ],
      "metadata": {
        "id": "fGULciVCuSDZ"
      },
      "execution_count": 64,
      "outputs": []
    },
    {
      "cell_type": "code",
      "source": [
        "inputfeatures = x.shape[0]\n",
        "outputfeatures = y.shape[0]"
      ],
      "metadata": {
        "id": "T2yd2T-HYKtZ"
      },
      "execution_count": 65,
      "outputs": []
    },
    {
      "cell_type": "code",
      "source": [
        "parameters = initialparam(inputfeatures, hiddenneuron, outputfeatures)\n",
        "losses = np.zeros((epoch, 1))"
      ],
      "metadata": {
        "id": "WwADtnQgpkex"
      },
      "execution_count": 66,
      "outputs": []
    },
    {
      "cell_type": "code",
      "source": [
        "for i in range(epoch):\n",
        "  loss, cache, a2 = forwardprop(x, y, parameters)\n",
        "  losses[i, 0] = loss\n",
        "  gradients = backwardprop(x, y, cache)\n",
        "  parameters = updateparam(parameters, gradients, learningRate)\n",
        "  if i % 10000 == 0:\n",
        "    print(f\"Epoch {i}, Loss: {loss:.6f}\")"
      ],
      "metadata": {
        "colab": {
          "base_uri": "https://localhost:8080/"
        },
        "id": "GH62umeio3RD",
        "outputId": "10aa0bca-4c9e-4d1d-d777-c5d901c2f035"
      },
      "execution_count": 67,
      "outputs": [
        {
          "output_type": "stream",
          "name": "stdout",
          "text": [
            "Epoch 0, Loss: 1.188344\n",
            "Epoch 10000, Loss: 0.094079\n",
            "Epoch 20000, Loss: 0.034346\n",
            "Epoch 30000, Loss: 0.019777\n",
            "Epoch 40000, Loss: 0.013613\n",
            "Epoch 50000, Loss: 0.010278\n",
            "Epoch 60000, Loss: 0.008207\n",
            "Epoch 70000, Loss: 0.006805\n",
            "Epoch 80000, Loss: 0.005796\n",
            "Epoch 90000, Loss: 0.005037\n"
          ]
        }
      ]
    },
    {
      "cell_type": "code",
      "source": [
        "_, _, predictions = forwardprop(x, y, parameters)\n",
        "predictions = (predictions > 0.5).astype(int)\n",
        "print(f\"Final output for {gate} gate:\\n{predictions}\")"
      ],
      "metadata": {
        "id": "RL46qGZinyZq",
        "colab": {
          "base_uri": "https://localhost:8080/"
        },
        "outputId": "47ad6250-7c4b-4c96-e374-fbdb47b9adfc"
      },
      "execution_count": 70,
      "outputs": [
        {
          "output_type": "stream",
          "name": "stdout",
          "text": [
            "Final output for AND gate:\n",
            "[[0 0 0 1]]\n"
          ]
        }
      ]
    },
    {
      "cell_type": "code",
      "source": [],
      "metadata": {
        "id": "JFCskjWxwa4r"
      },
      "execution_count": null,
      "outputs": []
    }
  ]
}